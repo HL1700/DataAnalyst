{
 "cells": [
  {
   "cell_type": "markdown",
   "metadata": {},
   "source": [
    "## [Students] Shopee Code League - Order Brushing\n",
    "\n",
    "Hendrik Lesmana"
   ]
  },
  {
   "cell_type": "markdown",
   "metadata": {},
   "source": [
    "### Order Brushing Detection\n",
    "Abnormal user behaviors on e-commerce platforms can be detected in various ways. For example, if an item in a shop is a best seller but many of its orders come from the same buyer, we have reason to suspect that the seller is conducting order brushing. Order Brushing is a technique that may be employed by sellers to create fake orders in order to inflate the seller’s or a particular item’s rating, which may likely push that seller’s items up the search results on Shopee. To maintain the integrity of our online shopping experience, we consistently monitor and flag any possible cases of order brushing on Shopee.\n",
    "\n",
    "### Task\n",
    "1. Identify all shops that are deemed to have conducted order brushing.\n",
    "2. For each shop that is identified to have conducted order brushing, identify the buyers suspected to have conducted order brushing for that shop.\n",
    "\n",
    "For the purpose of this question, shops are deemed to have conducted order brushing if their concentrate rate is greater than or equal to 3 at any instance\n",
    "\n",
    "Concentrate rate = Number of Orders within 1 hour / Number of Unique Buyers within 1 hour\n",
    "- For the purpose of this question, suspicious buyers are deemed as the buyer that contributed the highest proportion of orders to a shop that is deemed to have conducted order brushing.\n",
    "- For calculation of the highest proportion of orders to a shop, only include the orders that occured in instances when order brushing has been deemed to have taken place."
   ]
  },
  {
   "cell_type": "markdown",
   "metadata": {},
   "source": [
    "### Basic Concepts\n",
    "- Each orderid represents a distinct transaction on Shopee.\n",
    "- Each unique shopid is a distinct seller on Shopee.\n",
    "- Each unique userid is a distinct buyer on Shopee.\n",
    "\n",
    "Event Time refers to the exact time that an order was placed on Shopee.\n",
    "\n",
    "Concentrate rate is a possible measure that we use to determine whether a shop is likely to have conducted order brushing. For this question, the threshold for concentrate rate is 3. Any concentrate rate value equal to or greater than 3 is deemed to be an occurence of order brushing."
   ]
  },
  {
   "cell_type": "markdown",
   "metadata": {},
   "source": [
    "Approach:\n",
    "1. Select 1 hour window and take a slice from order Data(set the time condition, included in the 1 hour window)\n",
    "2. Find shops which reports based on Mean+(3*STD), more than that They are brushing shops.\n",
    "3. Find the userid who conducts order brushing(use aggregation function '&' to separate the differences)\n",
    "4. Do inner join to the original dataset"
   ]
  },
  {
   "cell_type": "code",
   "execution_count": 145,
   "metadata": {},
   "outputs": [],
   "source": [
    "import pandas as pd\n",
    "import numpy as np"
   ]
  },
  {
   "cell_type": "code",
   "execution_count": 146,
   "metadata": {},
   "outputs": [],
   "source": [
    "data = pd.read_csv('order_brush_order.csv')"
   ]
  },
  {
   "cell_type": "code",
   "execution_count": 147,
   "metadata": {},
   "outputs": [
    {
     "data": {
      "text/html": [
       "<div>\n",
       "<style scoped>\n",
       "    .dataframe tbody tr th:only-of-type {\n",
       "        vertical-align: middle;\n",
       "    }\n",
       "\n",
       "    .dataframe tbody tr th {\n",
       "        vertical-align: top;\n",
       "    }\n",
       "\n",
       "    .dataframe thead th {\n",
       "        text-align: right;\n",
       "    }\n",
       "</style>\n",
       "<table border=\"1\" class=\"dataframe\">\n",
       "  <thead>\n",
       "    <tr style=\"text-align: right;\">\n",
       "      <th></th>\n",
       "      <th>orderid</th>\n",
       "      <th>shopid</th>\n",
       "      <th>userid</th>\n",
       "      <th>event_time</th>\n",
       "    </tr>\n",
       "  </thead>\n",
       "  <tbody>\n",
       "    <tr>\n",
       "      <th>0</th>\n",
       "      <td>31076582227611</td>\n",
       "      <td>93950878</td>\n",
       "      <td>30530270</td>\n",
       "      <td>2019-12-27 00:23:03</td>\n",
       "    </tr>\n",
       "    <tr>\n",
       "      <th>1</th>\n",
       "      <td>31118059853484</td>\n",
       "      <td>156423439</td>\n",
       "      <td>46057927</td>\n",
       "      <td>2019-12-27 11:54:20</td>\n",
       "    </tr>\n",
       "    <tr>\n",
       "      <th>2</th>\n",
       "      <td>31123355095755</td>\n",
       "      <td>173699291</td>\n",
       "      <td>67341739</td>\n",
       "      <td>2019-12-27 13:22:35</td>\n",
       "    </tr>\n",
       "    <tr>\n",
       "      <th>3</th>\n",
       "      <td>31122059872723</td>\n",
       "      <td>63674025</td>\n",
       "      <td>149380322</td>\n",
       "      <td>2019-12-27 13:01:00</td>\n",
       "    </tr>\n",
       "    <tr>\n",
       "      <th>4</th>\n",
       "      <td>31117075665123</td>\n",
       "      <td>127249066</td>\n",
       "      <td>149493217</td>\n",
       "      <td>2019-12-27 11:37:55</td>\n",
       "    </tr>\n",
       "  </tbody>\n",
       "</table>\n",
       "</div>"
      ],
      "text/plain": [
       "          orderid     shopid     userid           event_time\n",
       "0  31076582227611   93950878   30530270  2019-12-27 00:23:03\n",
       "1  31118059853484  156423439   46057927  2019-12-27 11:54:20\n",
       "2  31123355095755  173699291   67341739  2019-12-27 13:22:35\n",
       "3  31122059872723   63674025  149380322  2019-12-27 13:01:00\n",
       "4  31117075665123  127249066  149493217  2019-12-27 11:37:55"
      ]
     },
     "execution_count": 147,
     "metadata": {},
     "output_type": "execute_result"
    }
   ],
   "source": [
    "data.head()"
   ]
  },
  {
   "cell_type": "code",
   "execution_count": 148,
   "metadata": {},
   "outputs": [
    {
     "name": "stdout",
     "output_type": "stream",
     "text": [
      "<class 'pandas.core.frame.DataFrame'>\n",
      "RangeIndex: 222750 entries, 0 to 222749\n",
      "Data columns (total 4 columns):\n",
      " #   Column      Non-Null Count   Dtype \n",
      "---  ------      --------------   ----- \n",
      " 0   orderid     222750 non-null  int64 \n",
      " 1   shopid      222750 non-null  int64 \n",
      " 2   userid      222750 non-null  int64 \n",
      " 3   event_time  222750 non-null  object\n",
      "dtypes: int64(3), object(1)\n",
      "memory usage: 5.9+ MB\n"
     ]
    }
   ],
   "source": [
    "data.info()"
   ]
  },
  {
   "cell_type": "markdown",
   "metadata": {},
   "source": [
    "event_time shows in object type. It should be datetime type, because the concentrate rate of orders are within 1 hour"
   ]
  },
  {
   "cell_type": "code",
   "execution_count": 149,
   "metadata": {},
   "outputs": [],
   "source": [
    "data['event_time'] = pd.to_datetime(data['event_time'])"
   ]
  },
  {
   "cell_type": "code",
   "execution_count": 150,
   "metadata": {},
   "outputs": [
    {
     "data": {
      "text/plain": [
       "orderid       222750\n",
       "shopid         18770\n",
       "userid         93883\n",
       "event_time    121064\n",
       "dtype: int64"
      ]
     },
     "execution_count": 150,
     "metadata": {},
     "output_type": "execute_result"
    }
   ],
   "source": [
    "data.nunique()"
   ]
  },
  {
   "cell_type": "markdown",
   "metadata": {},
   "source": [
    "There are  18770 unique shopid, this is going to be the key answer and show which one conduct order brushing and which one is not"
   ]
  },
  {
   "cell_type": "code",
   "execution_count": 151,
   "metadata": {},
   "outputs": [
    {
     "data": {
      "text/html": [
       "<div>\n",
       "<style scoped>\n",
       "    .dataframe tbody tr th:only-of-type {\n",
       "        vertical-align: middle;\n",
       "    }\n",
       "\n",
       "    .dataframe tbody tr th {\n",
       "        vertical-align: top;\n",
       "    }\n",
       "\n",
       "    .dataframe thead th {\n",
       "        text-align: right;\n",
       "    }\n",
       "</style>\n",
       "<table border=\"1\" class=\"dataframe\">\n",
       "  <thead>\n",
       "    <tr style=\"text-align: right;\">\n",
       "      <th></th>\n",
       "      <th>orderid</th>\n",
       "      <th>shopid</th>\n",
       "      <th>userid</th>\n",
       "      <th>event_time</th>\n",
       "    </tr>\n",
       "    <tr>\n",
       "      <th>event_time</th>\n",
       "      <th></th>\n",
       "      <th></th>\n",
       "      <th></th>\n",
       "      <th></th>\n",
       "    </tr>\n",
       "  </thead>\n",
       "  <tbody>\n",
       "    <tr>\n",
       "      <th>2019-12-27 00:00:00</th>\n",
       "      <td>31075200506751</td>\n",
       "      <td>6042309</td>\n",
       "      <td>97707522</td>\n",
       "      <td>2019-12-27 00:00:00</td>\n",
       "    </tr>\n",
       "    <tr>\n",
       "      <th>2019-12-27 00:00:00</th>\n",
       "      <td>31075200506752</td>\n",
       "      <td>104804492</td>\n",
       "      <td>97707522</td>\n",
       "      <td>2019-12-27 00:00:00</td>\n",
       "    </tr>\n",
       "    <tr>\n",
       "      <th>2019-12-27 00:00:00</th>\n",
       "      <td>31075200506753</td>\n",
       "      <td>8715449</td>\n",
       "      <td>97707522</td>\n",
       "      <td>2019-12-27 00:00:00</td>\n",
       "    </tr>\n",
       "    <tr>\n",
       "      <th>2019-12-27 00:00:02</th>\n",
       "      <td>31075201870570</td>\n",
       "      <td>190969466</td>\n",
       "      <td>170182475</td>\n",
       "      <td>2019-12-27 00:00:02</td>\n",
       "    </tr>\n",
       "    <tr>\n",
       "      <th>2019-12-27 00:00:05</th>\n",
       "      <td>31075205798264</td>\n",
       "      <td>2859407</td>\n",
       "      <td>12532131</td>\n",
       "      <td>2019-12-27 00:00:05</td>\n",
       "    </tr>\n",
       "  </tbody>\n",
       "</table>\n",
       "</div>"
      ],
      "text/plain": [
       "                            orderid     shopid     userid          event_time\n",
       "event_time                                                                   \n",
       "2019-12-27 00:00:00  31075200506751    6042309   97707522 2019-12-27 00:00:00\n",
       "2019-12-27 00:00:00  31075200506752  104804492   97707522 2019-12-27 00:00:00\n",
       "2019-12-27 00:00:00  31075200506753    8715449   97707522 2019-12-27 00:00:00\n",
       "2019-12-27 00:00:02  31075201870570  190969466  170182475 2019-12-27 00:00:02\n",
       "2019-12-27 00:00:05  31075205798264    2859407   12532131 2019-12-27 00:00:05"
      ]
     },
     "execution_count": 151,
     "metadata": {},
     "output_type": "execute_result"
    }
   ],
   "source": [
    "data_time = data.set_index(data['event_time']).sort_index()\n",
    "data_time.head()"
   ]
  },
  {
   "cell_type": "markdown",
   "metadata": {},
   "source": [
    "Why do we need set_index()?\n",
    "- set_index() is a method to set a List of Data Frame. Indexes are used to quickly locate data without having to search every row in a table, everytime the table accessed"
   ]
  },
  {
   "cell_type": "code",
   "execution_count": 152,
   "metadata": {},
   "outputs": [
    {
     "data": {
      "text/html": [
       "<div>\n",
       "<style scoped>\n",
       "    .dataframe tbody tr th:only-of-type {\n",
       "        vertical-align: middle;\n",
       "    }\n",
       "\n",
       "    .dataframe tbody tr th {\n",
       "        vertical-align: top;\n",
       "    }\n",
       "\n",
       "    .dataframe thead th {\n",
       "        text-align: right;\n",
       "    }\n",
       "</style>\n",
       "<table border=\"1\" class=\"dataframe\">\n",
       "  <thead>\n",
       "    <tr style=\"text-align: right;\">\n",
       "      <th></th>\n",
       "      <th>orderid</th>\n",
       "      <th>shopid</th>\n",
       "      <th>userid</th>\n",
       "    </tr>\n",
       "    <tr>\n",
       "      <th>event_time</th>\n",
       "      <th></th>\n",
       "      <th></th>\n",
       "      <th></th>\n",
       "    </tr>\n",
       "  </thead>\n",
       "  <tbody>\n",
       "    <tr>\n",
       "      <th>2019-12-27 00:00:00</th>\n",
       "      <td>31075200506751</td>\n",
       "      <td>6042309</td>\n",
       "      <td>97707522</td>\n",
       "    </tr>\n",
       "    <tr>\n",
       "      <th>2019-12-27 00:00:00</th>\n",
       "      <td>31075200506752</td>\n",
       "      <td>104804492</td>\n",
       "      <td>97707522</td>\n",
       "    </tr>\n",
       "    <tr>\n",
       "      <th>2019-12-27 00:00:00</th>\n",
       "      <td>31075200506753</td>\n",
       "      <td>8715449</td>\n",
       "      <td>97707522</td>\n",
       "    </tr>\n",
       "    <tr>\n",
       "      <th>2019-12-27 00:00:02</th>\n",
       "      <td>31075201870570</td>\n",
       "      <td>190969466</td>\n",
       "      <td>170182475</td>\n",
       "    </tr>\n",
       "    <tr>\n",
       "      <th>2019-12-27 00:00:05</th>\n",
       "      <td>31075205798264</td>\n",
       "      <td>2859407</td>\n",
       "      <td>12532131</td>\n",
       "    </tr>\n",
       "  </tbody>\n",
       "</table>\n",
       "</div>"
      ],
      "text/plain": [
       "                            orderid     shopid     userid\n",
       "event_time                                               \n",
       "2019-12-27 00:00:00  31075200506751    6042309   97707522\n",
       "2019-12-27 00:00:00  31075200506752  104804492   97707522\n",
       "2019-12-27 00:00:00  31075200506753    8715449   97707522\n",
       "2019-12-27 00:00:02  31075201870570  190969466  170182475\n",
       "2019-12-27 00:00:05  31075205798264    2859407   12532131"
      ]
     },
     "execution_count": 152,
     "metadata": {},
     "output_type": "execute_result"
    }
   ],
   "source": [
    "data_time = data_time.drop('event_time', axis=1)\n",
    "data_time.head()"
   ]
  },
  {
   "cell_type": "markdown",
   "metadata": {},
   "source": [
    "Index gives a unique identifier for every row"
   ]
  },
  {
   "cell_type": "code",
   "execution_count": 153,
   "metadata": {},
   "outputs": [
    {
     "data": {
      "text/html": [
       "<div>\n",
       "<style scoped>\n",
       "    .dataframe tbody tr th:only-of-type {\n",
       "        vertical-align: middle;\n",
       "    }\n",
       "\n",
       "    .dataframe tbody tr th {\n",
       "        vertical-align: top;\n",
       "    }\n",
       "\n",
       "    .dataframe thead th {\n",
       "        text-align: right;\n",
       "    }\n",
       "</style>\n",
       "<table border=\"1\" class=\"dataframe\">\n",
       "  <thead>\n",
       "    <tr style=\"text-align: right;\">\n",
       "      <th></th>\n",
       "      <th></th>\n",
       "      <th></th>\n",
       "      <th>orderid</th>\n",
       "    </tr>\n",
       "    <tr>\n",
       "      <th>shopid</th>\n",
       "      <th>userid</th>\n",
       "      <th>event_time</th>\n",
       "      <th></th>\n",
       "    </tr>\n",
       "  </thead>\n",
       "  <tbody>\n",
       "    <tr>\n",
       "      <th>10009</th>\n",
       "      <th>196962305</th>\n",
       "      <th>2019-12-27 03:00:00</th>\n",
       "      <td>1</td>\n",
       "    </tr>\n",
       "    <tr>\n",
       "      <th rowspan=\"2\" valign=\"top\">10051</th>\n",
       "      <th>2854032</th>\n",
       "      <th>2019-12-27 19:00:00</th>\n",
       "      <td>1</td>\n",
       "    </tr>\n",
       "    <tr>\n",
       "      <th>48600461</th>\n",
       "      <th>2019-12-29 01:00:00</th>\n",
       "      <td>1</td>\n",
       "    </tr>\n",
       "    <tr>\n",
       "      <th rowspan=\"2\" valign=\"top\">10061</th>\n",
       "      <th>62464559</th>\n",
       "      <th>2019-12-31 02:00:00</th>\n",
       "      <td>1</td>\n",
       "    </tr>\n",
       "    <tr>\n",
       "      <th>130633421</th>\n",
       "      <th>2019-12-30 21:00:00</th>\n",
       "      <td>1</td>\n",
       "    </tr>\n",
       "  </tbody>\n",
       "</table>\n",
       "</div>"
      ],
      "text/plain": [
       "                                      orderid\n",
       "shopid userid    event_time                  \n",
       "10009  196962305 2019-12-27 03:00:00        1\n",
       "10051  2854032   2019-12-27 19:00:00        1\n",
       "       48600461  2019-12-29 01:00:00        1\n",
       "10061  62464559  2019-12-31 02:00:00        1\n",
       "       130633421 2019-12-30 21:00:00        1"
      ]
     },
     "execution_count": 153,
     "metadata": {},
     "output_type": "execute_result"
    }
   ],
   "source": [
    "group_order = data_time.groupby(['shopid', 'userid', pd.Grouper(freq='60min')]).count()\n",
    "group_order.head()"
   ]
  },
  {
   "cell_type": "markdown",
   "metadata": {},
   "source": [
    "A pd.Grouper() is used to group dataframe by a define time interval. In this case, a spesific groupby is to get data within frequency within 60 minutes and count it from every shopid and unique userid within data_time index\n",
    "\n",
    "- basically, I would like to group every 60 minutes and start grouping at 03:00:00"
   ]
  },
  {
   "cell_type": "code",
   "execution_count": 154,
   "metadata": {},
   "outputs": [
    {
     "data": {
      "text/html": [
       "<div>\n",
       "<style scoped>\n",
       "    .dataframe tbody tr th:only-of-type {\n",
       "        vertical-align: middle;\n",
       "    }\n",
       "\n",
       "    .dataframe tbody tr th {\n",
       "        vertical-align: top;\n",
       "    }\n",
       "\n",
       "    .dataframe thead th {\n",
       "        text-align: right;\n",
       "    }\n",
       "</style>\n",
       "<table border=\"1\" class=\"dataframe\">\n",
       "  <thead>\n",
       "    <tr style=\"text-align: right;\">\n",
       "      <th></th>\n",
       "      <th></th>\n",
       "      <th></th>\n",
       "      <th>n_order</th>\n",
       "    </tr>\n",
       "    <tr>\n",
       "      <th>shopid</th>\n",
       "      <th>userid</th>\n",
       "      <th>event_time</th>\n",
       "      <th></th>\n",
       "    </tr>\n",
       "  </thead>\n",
       "  <tbody>\n",
       "    <tr>\n",
       "      <th>10009</th>\n",
       "      <th>196962305</th>\n",
       "      <th>2019-12-27 03:00:00</th>\n",
       "      <td>1</td>\n",
       "    </tr>\n",
       "    <tr>\n",
       "      <th rowspan=\"2\" valign=\"top\">10051</th>\n",
       "      <th>2854032</th>\n",
       "      <th>2019-12-27 19:00:00</th>\n",
       "      <td>1</td>\n",
       "    </tr>\n",
       "    <tr>\n",
       "      <th>48600461</th>\n",
       "      <th>2019-12-29 01:00:00</th>\n",
       "      <td>1</td>\n",
       "    </tr>\n",
       "    <tr>\n",
       "      <th rowspan=\"2\" valign=\"top\">10061</th>\n",
       "      <th>62464559</th>\n",
       "      <th>2019-12-31 02:00:00</th>\n",
       "      <td>1</td>\n",
       "    </tr>\n",
       "    <tr>\n",
       "      <th>130633421</th>\n",
       "      <th>2019-12-30 21:00:00</th>\n",
       "      <td>1</td>\n",
       "    </tr>\n",
       "  </tbody>\n",
       "</table>\n",
       "</div>"
      ],
      "text/plain": [
       "                                      n_order\n",
       "shopid userid    event_time                  \n",
       "10009  196962305 2019-12-27 03:00:00        1\n",
       "10051  2854032   2019-12-27 19:00:00        1\n",
       "       48600461  2019-12-29 01:00:00        1\n",
       "10061  62464559  2019-12-31 02:00:00        1\n",
       "       130633421 2019-12-30 21:00:00        1"
      ]
     },
     "execution_count": 154,
     "metadata": {},
     "output_type": "execute_result"
    }
   ],
   "source": [
    "group_order.rename(columns={'orderid':'n_order'}, inplace=True)\n",
    "group_order.head()"
   ]
  },
  {
   "cell_type": "markdown",
   "metadata": {},
   "source": [
    "Rename orderid into n_order(number of order) to make it easy to read"
   ]
  },
  {
   "cell_type": "code",
   "execution_count": 155,
   "metadata": {},
   "outputs": [
    {
     "name": "stdout",
     "output_type": "stream",
     "text": [
      "Median of n_order is 1.0\n",
      "Mean of n_order is 1.0318375741741825\n",
      "Standard Deviation of n_order is 0.21215125373725185\n",
      "Mean + (3*Standard Deviation) of n_order is 1.668291335385938\n"
     ]
    }
   ],
   "source": [
    "import statistics\n",
    "\n",
    "print(\"Median of n_order is % s\"\n",
    "     %(group_order['n_order'].median()))\n",
    "print(\"Mean of n_order is % s\"\n",
    "     %(group_order['n_order'].mean()))\n",
    "print(\"Standard Deviation of n_order is % s\"\n",
    "     %(statistics.stdev(group_order['n_order'])))\n",
    "print(\"Mean + (3*Standard Deviation) of n_order is % s\"\n",
    "     %((statistics.stdev(group_order['n_order'])*3) + group_order['n_order'].mean()))"
   ]
  },
  {
   "cell_type": "markdown",
   "metadata": {},
   "source": [
    "Do a simple analyst using statistics:\n",
    "\n",
    "Median is a measure to avoid outliers data, median of n_order is 1\n",
    "Mean of n_order is 1.03\n",
    "Standard Deviation of n_order is 0.21\n",
    "I can say that, besides of the outliers. most of the n_order is in range 1.\n",
    "\n",
    "Mean + (3*Standard Deviation) formula is used to exclude the normal orders(there's no way, each customer only order 1 item. So, to make sure not to make an error asumption, i used the formula to extend the range of the normal order)\n",
    "The result is 1.67, rounded to be 2.00\n",
    "\n",
    "Meaning that n_order more than 2 can be a \"suspect\" of the order brushing."
   ]
  },
  {
   "cell_type": "code",
   "execution_count": 156,
   "metadata": {},
   "outputs": [
    {
     "data": {
      "text/html": [
       "<div>\n",
       "<style scoped>\n",
       "    .dataframe tbody tr th:only-of-type {\n",
       "        vertical-align: middle;\n",
       "    }\n",
       "\n",
       "    .dataframe tbody tr th {\n",
       "        vertical-align: top;\n",
       "    }\n",
       "\n",
       "    .dataframe thead th {\n",
       "        text-align: right;\n",
       "    }\n",
       "</style>\n",
       "<table border=\"1\" class=\"dataframe\">\n",
       "  <thead>\n",
       "    <tr style=\"text-align: right;\">\n",
       "      <th></th>\n",
       "      <th></th>\n",
       "      <th></th>\n",
       "      <th>n_order</th>\n",
       "    </tr>\n",
       "    <tr>\n",
       "      <th>shopid</th>\n",
       "      <th>userid</th>\n",
       "      <th>event_time</th>\n",
       "      <th></th>\n",
       "    </tr>\n",
       "  </thead>\n",
       "  <tbody>\n",
       "    <tr>\n",
       "      <th>10159</th>\n",
       "      <th>214988798</th>\n",
       "      <th>2019-12-29 20:00:00</th>\n",
       "      <td>3</td>\n",
       "    </tr>\n",
       "    <tr>\n",
       "      <th rowspan=\"2\" valign=\"top\">10287</th>\n",
       "      <th>198097381</th>\n",
       "      <th>2019-12-30 00:00:00</th>\n",
       "      <td>3</td>\n",
       "    </tr>\n",
       "    <tr>\n",
       "      <th>214226569</th>\n",
       "      <th>2019-12-31 01:00:00</th>\n",
       "      <td>3</td>\n",
       "    </tr>\n",
       "    <tr>\n",
       "      <th>10402</th>\n",
       "      <th>77819</th>\n",
       "      <th>2019-12-28 14:00:00</th>\n",
       "      <td>3</td>\n",
       "    </tr>\n",
       "    <tr>\n",
       "      <th>10536</th>\n",
       "      <th>672345</th>\n",
       "      <th>2019-12-27 11:00:00</th>\n",
       "      <td>3</td>\n",
       "    </tr>\n",
       "  </tbody>\n",
       "</table>\n",
       "</div>"
      ],
      "text/plain": [
       "                                      n_order\n",
       "shopid userid    event_time                  \n",
       "10159  214988798 2019-12-29 20:00:00        3\n",
       "10287  198097381 2019-12-30 00:00:00        3\n",
       "       214226569 2019-12-31 01:00:00        3\n",
       "10402  77819     2019-12-28 14:00:00        3\n",
       "10536  672345    2019-12-27 11:00:00        3"
      ]
     },
     "execution_count": 156,
     "metadata": {},
     "output_type": "execute_result"
    }
   ],
   "source": [
    "possible_brushing = group_order[group_order['n_order'] > 2]\n",
    "possible_brushing.head()"
   ]
  },
  {
   "cell_type": "code",
   "execution_count": 157,
   "metadata": {},
   "outputs": [
    {
     "data": {
      "text/plain": [
       "296"
      ]
     },
     "execution_count": 157,
     "metadata": {},
     "output_type": "execute_result"
    }
   ],
   "source": [
    "userids = []\n",
    "possible_brushing = possible_brushing.reset_index()\n",
    "possible_brushing = possible_brushing.groupby('shopid')['userid'].apply(lambda x: userids.append(x.values))\n",
    "len(userids)"
   ]
  },
  {
   "cell_type": "markdown",
   "metadata": {},
   "source": [
    "- If there are more than 1 possible_brushing(userid). I will use & as separator between one userid and another userid\n",
    "- lambda function is used to define simple task, to add x.values in after userid placed"
   ]
  },
  {
   "cell_type": "code",
   "execution_count": 158,
   "metadata": {},
   "outputs": [
    {
     "data": {
      "text/html": [
       "<div>\n",
       "<style scoped>\n",
       "    .dataframe tbody tr th:only-of-type {\n",
       "        vertical-align: middle;\n",
       "    }\n",
       "\n",
       "    .dataframe tbody tr th {\n",
       "        vertical-align: top;\n",
       "    }\n",
       "\n",
       "    .dataframe thead th {\n",
       "        text-align: right;\n",
       "    }\n",
       "</style>\n",
       "<table border=\"1\" class=\"dataframe\">\n",
       "  <thead>\n",
       "    <tr style=\"text-align: right;\">\n",
       "      <th></th>\n",
       "      <th>shopid</th>\n",
       "      <th>userid</th>\n",
       "    </tr>\n",
       "  </thead>\n",
       "  <tbody>\n",
       "    <tr>\n",
       "      <th>0</th>\n",
       "      <td>10159</td>\n",
       "      <td>214988798</td>\n",
       "    </tr>\n",
       "    <tr>\n",
       "      <th>1</th>\n",
       "      <td>10287</td>\n",
       "      <td>198097381&amp;214226569</td>\n",
       "    </tr>\n",
       "    <tr>\n",
       "      <th>2</th>\n",
       "      <td>10402</td>\n",
       "      <td>77819</td>\n",
       "    </tr>\n",
       "    <tr>\n",
       "      <th>3</th>\n",
       "      <td>10536</td>\n",
       "      <td>672345&amp;672345</td>\n",
       "    </tr>\n",
       "    <tr>\n",
       "      <th>4</th>\n",
       "      <td>29583</td>\n",
       "      <td>214495220&amp;215275495</td>\n",
       "    </tr>\n",
       "  </tbody>\n",
       "</table>\n",
       "</div>"
      ],
      "text/plain": [
       "   shopid               userid\n",
       "0   10159            214988798\n",
       "1   10287  198097381&214226569\n",
       "2   10402                77819\n",
       "3   10536        672345&672345\n",
       "4   29583  214495220&215275495"
      ]
     },
     "execution_count": 158,
     "metadata": {},
     "output_type": "execute_result"
    }
   ],
   "source": [
    "def add_and(ands):\n",
    "    add = '&'.join(str(x) for x in ands)\n",
    "    return add\n",
    "\n",
    "concat_to_userids = []\n",
    "for i in userids:\n",
    "    concat_to_userids.append(add_and(i))\n",
    "\n",
    "order_brush_suspect = pd.DataFrame({\"shopid\": possible_brushing.reset_index()['shopid'].unique(), \"userid\": concat_to_userids})\n",
    "order_brush_suspect.head()"
   ]
  },
  {
   "cell_type": "markdown",
   "metadata": {},
   "source": [
    "- By defining a function called add_and, I used an empty variable as representative data and join '&' as separator\n",
    "- concat_to_userids is a second temporary storage\n",
    "- implement the function(add_and) to all data by using loop(for) to the userids(the first temporary storage) which has data grouped with possible order brushing data(userid) with a function(lambda) to add x values. The x values is added in the add_and function as '&' to fill into str(x) and then loop(apply to all data)\n",
    "\n",
    "Lastly, make a dataframe only show shopid and userid which are suspected to do brushing"
   ]
  },
  {
   "cell_type": "code",
   "execution_count": 159,
   "metadata": {},
   "outputs": [
    {
     "data": {
      "text/plain": [
       "shopid    296\n",
       "userid    261\n",
       "dtype: int64"
      ]
     },
     "execution_count": 159,
     "metadata": {},
     "output_type": "execute_result"
    }
   ],
   "source": [
    "order_brush_suspect.nunique()"
   ]
  },
  {
   "cell_type": "code",
   "execution_count": 160,
   "metadata": {},
   "outputs": [
    {
     "data": {
      "text/html": [
       "<div>\n",
       "<style scoped>\n",
       "    .dataframe tbody tr th:only-of-type {\n",
       "        vertical-align: middle;\n",
       "    }\n",
       "\n",
       "    .dataframe tbody tr th {\n",
       "        vertical-align: top;\n",
       "    }\n",
       "\n",
       "    .dataframe thead th {\n",
       "        text-align: right;\n",
       "    }\n",
       "</style>\n",
       "<table border=\"1\" class=\"dataframe\">\n",
       "  <thead>\n",
       "    <tr style=\"text-align: right;\">\n",
       "      <th></th>\n",
       "      <th>shopid</th>\n",
       "      <th>userid</th>\n",
       "    </tr>\n",
       "  </thead>\n",
       "  <tbody>\n",
       "    <tr>\n",
       "      <th>0</th>\n",
       "      <td>93950878</td>\n",
       "      <td>0</td>\n",
       "    </tr>\n",
       "    <tr>\n",
       "      <th>1</th>\n",
       "      <td>156423439</td>\n",
       "      <td>0</td>\n",
       "    </tr>\n",
       "    <tr>\n",
       "      <th>2</th>\n",
       "      <td>173699291</td>\n",
       "      <td>0</td>\n",
       "    </tr>\n",
       "    <tr>\n",
       "      <th>3</th>\n",
       "      <td>63674025</td>\n",
       "      <td>0</td>\n",
       "    </tr>\n",
       "    <tr>\n",
       "      <th>4</th>\n",
       "      <td>127249066</td>\n",
       "      <td>0</td>\n",
       "    </tr>\n",
       "    <tr>\n",
       "      <th>...</th>\n",
       "      <td>...</td>\n",
       "      <td>...</td>\n",
       "    </tr>\n",
       "    <tr>\n",
       "      <th>18765</th>\n",
       "      <td>163337224</td>\n",
       "      <td>0</td>\n",
       "    </tr>\n",
       "    <tr>\n",
       "      <th>18766</th>\n",
       "      <td>772599</td>\n",
       "      <td>0</td>\n",
       "    </tr>\n",
       "    <tr>\n",
       "      <th>18767</th>\n",
       "      <td>50236030</td>\n",
       "      <td>0</td>\n",
       "    </tr>\n",
       "    <tr>\n",
       "      <th>18768</th>\n",
       "      <td>203587596</td>\n",
       "      <td>0</td>\n",
       "    </tr>\n",
       "    <tr>\n",
       "      <th>18769</th>\n",
       "      <td>147118226</td>\n",
       "      <td>0</td>\n",
       "    </tr>\n",
       "  </tbody>\n",
       "</table>\n",
       "<p>18770 rows × 2 columns</p>\n",
       "</div>"
      ],
      "text/plain": [
       "          shopid  userid\n",
       "0       93950878       0\n",
       "1      156423439       0\n",
       "2      173699291       0\n",
       "3       63674025       0\n",
       "4      127249066       0\n",
       "...          ...     ...\n",
       "18765  163337224       0\n",
       "18766     772599       0\n",
       "18767   50236030       0\n",
       "18768  203587596       0\n",
       "18769  147118226       0\n",
       "\n",
       "[18770 rows x 2 columns]"
      ]
     },
     "execution_count": 160,
     "metadata": {},
     "output_type": "execute_result"
    }
   ],
   "source": [
    "original_data = pd.DataFrame({'shopid':data['shopid'].unique(), 'userid':0})\n",
    "original_data"
   ]
  },
  {
   "cell_type": "markdown",
   "metadata": {},
   "source": [
    "Get all unique data(shopid) from the original data and set all userid as 0 to represent non-brushing"
   ]
  },
  {
   "cell_type": "code",
   "execution_count": 161,
   "metadata": {},
   "outputs": [],
   "source": [
    "left_join = pd.concat([original_data[~original_data.shopid.isin(order_brush_suspect.shopid)], order_brush_suspect])"
   ]
  },
  {
   "cell_type": "markdown",
   "metadata": {},
   "source": [
    "Left join is a function from SQL which returns all rows from the left table."
   ]
  },
  {
   "cell_type": "code",
   "execution_count": 162,
   "metadata": {},
   "outputs": [
    {
     "data": {
      "text/html": [
       "<div>\n",
       "<style scoped>\n",
       "    .dataframe tbody tr th:only-of-type {\n",
       "        vertical-align: middle;\n",
       "    }\n",
       "\n",
       "    .dataframe tbody tr th {\n",
       "        vertical-align: top;\n",
       "    }\n",
       "\n",
       "    .dataframe thead th {\n",
       "        text-align: right;\n",
       "    }\n",
       "</style>\n",
       "<table border=\"1\" class=\"dataframe\">\n",
       "  <thead>\n",
       "    <tr style=\"text-align: right;\">\n",
       "      <th></th>\n",
       "      <th>shopid</th>\n",
       "      <th>userid</th>\n",
       "    </tr>\n",
       "  </thead>\n",
       "  <tbody>\n",
       "    <tr>\n",
       "      <th>0</th>\n",
       "      <td>93950878</td>\n",
       "      <td>0</td>\n",
       "    </tr>\n",
       "    <tr>\n",
       "      <th>1</th>\n",
       "      <td>156423439</td>\n",
       "      <td>0</td>\n",
       "    </tr>\n",
       "    <tr>\n",
       "      <th>2</th>\n",
       "      <td>173699291</td>\n",
       "      <td>0</td>\n",
       "    </tr>\n",
       "    <tr>\n",
       "      <th>3</th>\n",
       "      <td>63674025</td>\n",
       "      <td>0</td>\n",
       "    </tr>\n",
       "    <tr>\n",
       "      <th>4</th>\n",
       "      <td>127249066</td>\n",
       "      <td>0</td>\n",
       "    </tr>\n",
       "    <tr>\n",
       "      <th>...</th>\n",
       "      <td>...</td>\n",
       "      <td>...</td>\n",
       "    </tr>\n",
       "    <tr>\n",
       "      <th>291</th>\n",
       "      <td>203531250</td>\n",
       "      <td>114282846</td>\n",
       "    </tr>\n",
       "    <tr>\n",
       "      <th>292</th>\n",
       "      <td>204225676</td>\n",
       "      <td>198662175</td>\n",
       "    </tr>\n",
       "    <tr>\n",
       "      <th>293</th>\n",
       "      <td>208696908</td>\n",
       "      <td>214111334</td>\n",
       "    </tr>\n",
       "    <tr>\n",
       "      <th>294</th>\n",
       "      <td>210197928</td>\n",
       "      <td>52867898</td>\n",
       "    </tr>\n",
       "    <tr>\n",
       "      <th>295</th>\n",
       "      <td>213141071</td>\n",
       "      <td>213646699</td>\n",
       "    </tr>\n",
       "  </tbody>\n",
       "</table>\n",
       "<p>18770 rows × 2 columns</p>\n",
       "</div>"
      ],
      "text/plain": [
       "        shopid     userid\n",
       "0     93950878          0\n",
       "1    156423439          0\n",
       "2    173699291          0\n",
       "3     63674025          0\n",
       "4    127249066          0\n",
       "..         ...        ...\n",
       "291  203531250  114282846\n",
       "292  204225676  198662175\n",
       "293  208696908  214111334\n",
       "294  210197928   52867898\n",
       "295  213141071  213646699\n",
       "\n",
       "[18770 rows x 2 columns]"
      ]
     },
     "execution_count": 162,
     "metadata": {},
     "output_type": "execute_result"
    }
   ],
   "source": [
    "left_join"
   ]
  },
  {
   "cell_type": "markdown",
   "metadata": {},
   "source": [
    "- 295 in the table(represent row numebrs) meaning that there are 295 suspects of shopid to do order brushing\n",
    "- And  18770-295 = 17475 shopid are clear from order brushing suspect"
   ]
  }
 ],
 "metadata": {
  "kernelspec": {
   "display_name": "Python 3",
   "language": "python",
   "name": "python3"
  },
  "language_info": {
   "codemirror_mode": {
    "name": "ipython",
    "version": 3
   },
   "file_extension": ".py",
   "mimetype": "text/x-python",
   "name": "python",
   "nbconvert_exporter": "python",
   "pygments_lexer": "ipython3",
   "version": "3.7.4"
  }
 },
 "nbformat": 4,
 "nbformat_minor": 4
}
